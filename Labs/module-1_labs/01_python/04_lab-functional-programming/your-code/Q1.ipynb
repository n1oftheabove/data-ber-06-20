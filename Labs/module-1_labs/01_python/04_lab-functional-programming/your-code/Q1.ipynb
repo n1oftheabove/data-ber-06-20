{
 "cells": [
  {
   "cell_type": "markdown",
   "metadata": {},
   "source": [
    "In the cell below, create a Python function that wraps your previous solution for the Bag of Words lab.\n",
    "\n",
    "Requirements:\n",
    "\n",
    "1. Your function should accept the following parameters:\n",
    "    * `docs` [REQUIRED] - array of document paths.\n",
    "    * `stop_words` [OPTIONAL] - array of stop words. The default value is an empty array.\n",
    "\n",
    "1. Your function should return a Python object that contains the following:\n",
    "    * `bag_of_words` - array of strings of normalized unique words in the corpus.\n",
    "    * `term_freq` - array of the term-frequency vectors."
   ]
  },
  {
   "cell_type": "code",
   "execution_count": 8,
   "metadata": {},
   "outputs": [],
   "source": [
    "# Import required libraries\n",
    "\n",
    "# Define function\n",
    "def get_bow_from_docs(docs, stop_words=[]):\n",
    "    \n",
    "    # In the function, first define the variables you will use such as `corpus`, `bag_of_words`, and `term_freq`.\n",
    "\n",
    "    punctuations = '''!()-[]{};:'\"\\,<>./?@#$%^&*_~'''\n",
    "    corpus = []\n",
    "    bag_of_words = []\n",
    "    corpus_new = []\n",
    "    term_freq = []\n",
    "\n",
    "    for doc in docs:\n",
    "        with open(doc) as d:\n",
    "            content = d.readlines()[0]\n",
    "        corpus.append(content)\n",
    "\n",
    "\n",
    "    for entry in corpus:\n",
    "        no_punct = \"\"\n",
    "        for char in entry:\n",
    "           if char not in punctuations:\n",
    "               no_punct = no_punct + char.lower()\n",
    "        corpus_new.append(no_punct)\n",
    "\n",
    "    for sentence in corpus_new:\n",
    "        for word in sentence.split():\n",
    "            if not word in bag_of_words and not word in stop_words:\n",
    "                bag_of_words.append(word)\n",
    "\n",
    "    for sentence in corpus_new:\n",
    "        term_freq.append([sentence.split().count(word) for word in bag_of_words])\n",
    "    \n",
    "    \n",
    "    # Now return your output as an object\n",
    "    return {\n",
    "        \"bag_of_words\": bag_of_words,\n",
    "        \"term_freq\": term_freq\n",
    "    }\n",
    "\n",
    "# stop_words = ['I', 'all', 'six', 'less', 'being', 'indeed', 'over', 'move', 'anyway', 'fifty', 'four', 'not', 'own', 'through', 'yourselves', 'go', 'where', 'mill', 'only', 'find', 'before', 'one', 'whose', 'system', 'how', 'somewhere', 'with', 'thick', 'show', 'had', 'enough', 'should', 'to', 'must', 'whom', 'seeming', 'under', 'ours', 'has', 'might', 'thereafter', 'latterly', 'do', 'them', 'his', 'around', 'than', 'get', 'very', 'de', 'none', 'cannot', 'every', 'whether', 'they', 'front', 'during', 'thus', 'now', 'him', 'nor', 'name', 'several', 'hereafter', 'always', 'who', 'cry', 'whither', 'this', 'someone', 'either', 'each', 'become', 'thereupon', 'sometime', 'side', 'two', 'therein', 'twelve', 'because', 'often', 'ten', 'our', 'eg', 'some', 'back', 'up', 'namely', 'towards', 'are', 'further', 'beyond', 'ourselves', 'yet', 'out', 'even', 'will', 'what', 'still', 'for', 'bottom', 'mine', 'since', 'please', 'forty', 'per', 'its', 'everything', 'behind', 'un', 'above', 'between', 'it', 'neither', 'seemed', 'ever', 'across', 'she', 'somehow', 'be', 'we', 'full', 'never', 'sixty', 'however', 'here', 'otherwise', 'were', 'whereupon', 'nowhere', 'although', 'found', 'alone', 're', 'along', 'fifteen', 'by', 'both', 'about', 'last', 'would', 'anything', 'via', 'many', 'could', 'thence', 'put', 'against', 'keep', 'etc', 'amount', 'became', 'ltd', 'hence', 'onto', 'or', 'con', 'among', 'already', 'co', 'afterwards', 'formerly', 'within', 'seems', 'into', 'others', 'while', 'whatever', 'except', 'down', 'hers', 'everyone', 'done', 'least', 'another', 'whoever', 'moreover', 'couldnt', 'throughout', 'anyhow', 'yourself', 'three', 'from', 'her', 'few', 'together', 'top', 'there', 'due', 'been', 'next', 'anyone', 'eleven', 'much', 'call', 'therefore', 'interest', 'then', 'thru', 'themselves', 'hundred', 'was', 'sincere', 'empty', 'more', 'himself', 'elsewhere', 'mostly', 'on', 'fire', 'am', 'becoming', 'hereby', 'amongst', 'else', 'part', 'everywhere', 'too', 'herself', 'former', 'those', 'he', 'me', 'myself', 'made', 'twenty', 'these', 'bill', 'cant', 'us', 'until', 'besides', 'nevertheless', 'below', 'anywhere', 'nine', 'can', 'of', 'your', 'toward', 'my', 'something', 'and', 'whereafter', 'whenever', 'give', 'almost', 'wherever', 'is', 'describe', 'beforehand', 'herein', 'an', 'as', 'itself', 'at', 'have', 'in', 'seem', 'whence', 'ie', 'any', 'fill', 'again', 'hasnt', 'inc', 'thereby', 'thin', 'no', 'perhaps', 'latter', 'meanwhile', 'when', 'detail', 'same', 'wherein', 'beside', 'also', 'that', 'other', 'take', 'which', 'becomes', 'you', 'if', 'nobody', 'see', 'though', 'may', 'after', 'upon', 'most', 'hereupon', 'eight', 'but', 'serious', 'nothing', 'such', 'why', 'a', 'off', 'whereby', 'third', 'i', 'whole', 'noone', 'sometimes', 'well', 'amoungst', 'yours', 'their', 'rather', 'without', 'so', 'five', 'the', 'first', 'whereas', 'once']\n",
    "# docs = ['doc1.txt', 'doc2.txt', 'doc3.txt']\n",
    "    "
   ]
  },
  {
   "cell_type": "markdown",
   "metadata": {},
   "source": [
    "Test your function without stop words. You should see the output like below:\n",
    "\n",
    "```{'bag_of_words': ['ironhack', 'is', 'cool', 'i', 'love', 'am', 'a', 'student', 'at'], 'term_freq': [[1, 1, 1, 0, 0, 0, 0, 0, 0], [1, 0, 0, 1, 1, 0, 0, 0, 0], [1, 0, 0, 1, 0, 1, 1, 1, 1]]}```"
   ]
  },
  {
   "cell_type": "code",
   "execution_count": 9,
   "metadata": {},
   "outputs": [
    {
     "name": "stdout",
     "output_type": "stream",
     "text": [
      "{'bag_of_words': ['ironhack', 'is', 'cool', 'i', 'love', 'am', 'a', 'student', 'at'], 'term_freq': [[1, 1, 1, 0, 0, 0, 0, 0, 0], [1, 0, 0, 1, 1, 0, 0, 0, 0], [1, 0, 0, 1, 0, 1, 1, 1, 1]]}\n"
     ]
    }
   ],
   "source": [
    "# Define doc paths array\n",
    "docs = ['doc1.txt', 'doc2.txt', 'doc3.txt']\n",
    "\n",
    "# Obtain BoW from your function\n",
    "bow = get_bow_from_docs(docs)\n",
    "\n",
    "# Print BoW\n",
    "print(bow)"
   ]
  },
  {
   "cell_type": "markdown",
   "metadata": {},
   "source": [
    "If your attempt above is successful, nice work done!\n",
    "\n",
    "Now test your function again with the stop words. In the previous lab we defined the stop words in a large array. In this lab, we'll import the stop words from Scikit-Learn."
   ]
  },
  {
   "cell_type": "code",
   "execution_count": 14,
   "metadata": {},
   "outputs": [
    {
     "name": "stdout",
     "output_type": "stream",
     "text": [
      "frozenset({'whereafter', 'interest', 'if', 'became', 'perhaps', 'herself', 'will', 'ours', 'whom', 'through', 'above', 'against', 'have', 'anyone', 'do', 'can', 'about', 'should', 'nothing', 'anywhere', 'it', 'whenever', 'front', 'nor', 'we', 'more', 'thru', 'indeed', 'am', 'keep', 'otherwise', 'un', 'still', 'whereupon', 'top', 'call', 'him', 'thick', 'these', 'also', 'between', 'find', 'rather', 'two', 'while', 'by', 'out', 'hereupon', 'becomes', 'de', 'but', 'somewhere', 'found', 'alone', 'in', 'mine', 'after', 'with', 'its', 'our', 'ourselves', 'before', 'therein', 'thence', 'or', 'one', 'where', 'only', 'are', 'via', 'three', 'whole', 'onto', 'this', 'much', 'without', 'fifteen', 'he', 'here', 'anyway', 'anything', 'amongst', 'themselves', 'see', 'sincere', 'full', 'whoever', 'other', 'being', 'across', 'at', 'that', 'was', 'herein', 'fill', 'might', 'thus', 'name', 'whose', 'cry', 'few', 'no', 'you', 'twenty', 'elsewhere', 'formerly', 'be', 'five', 'there', 'could', 'the', 'and', 'go', 'on', 'from', 'very', 'yourselves', 'seem', 'nowhere', 'per', 'put', 'ever', 'get', 'hasnt', 'whither', 'forty', 'so', 'due', 'too', 'bottom', 'further', 'towards', 'i', 'part', 'except', 'move', 'himself', 'etc', 'detail', 'please', 'cant', 'couldnt', 'since', 'former', 'nevertheless', 'though', 'first', 'thereby', 'yourself', 'not', 'well', 'besides', 'hereafter', 'all', 'describe', 're', 'itself', 'for', 'whatever', 'always', 'when', 'hers', 'none', 'thereupon', 'four', 'off', 'somehow', 'least', 'into', 'ie', 'eg', 'ltd', 'already', 'hereby', 'back', 'every', 'them', 'hundred', 'third', 'up', 'moreover', 'myself', 'even', 'mostly', 'sometime', 'six', 'her', 'were', 'any', 'take', 'a', 'an', 'serious', 'nobody', 'give', 'throughout', 'has', 'upon', 'below', 'under', 'of', 'someone', 'along', 'empty', 'seems', 'which', 'either', 'fifty', 'another', 'each', 'toward', 'during', 'enough', 'may', 'among', 'must', 'over', 'afterwards', 'noone', 'then', 'who', 'both', 'latterly', 'is', 'she', 'such', 'thin', 'eight', 'something', 'whether', 'often', 'whereby', 'had', 'anyhow', 'therefore', 'wherever', 'less', 'again', 'to', 'whence', 'hence', 'now', 'amoungst', 'sixty', 'ten', 'never', 'everything', 'thereafter', 'would', 'how', 'why', 'many', 'within', 'your', 'although', 'become', 'his', 'beforehand', 'side', 'behind', 'same', 'together', 'as', 'everywhere', 'done', 'eleven', 'else', 'down', 'almost', 'twelve', 'beside', 'made', 'several', 'seeming', 'some', 'most', 'whereas', 'sometimes', 'everyone', 'until', 'others', 'what', 'latter', 'next', 'con', 'they', 'yours', 'been', 'us', 'amount', 'fire', 'seemed', 'own', 'nine', 'show', 'bill', 'once', 'because', 'becoming', 'around', 'wherein', 'namely', 'beyond', 'however', 'system', 'meanwhile', 'those', 'last', 'my', 'inc', 'mill', 'co', 'me', 'than', 'their', 'cannot', 'yet', 'neither'})\n"
     ]
    }
   ],
   "source": [
    "from sklearn.feature_extraction import text\n",
    "print(text.ENGLISH_STOP_WORDS)"
   ]
  },
  {
   "cell_type": "markdown",
   "metadata": {},
   "source": [
    "You should have seen a large list of words that looks like:\n",
    "\n",
    "```frozenset({'across', 'mine', 'cannot', ...})```\n",
    "\n",
    "`frozenset` is a type of Python object that is immutable. In this lab you can use it just like an array without conversion."
   ]
  },
  {
   "cell_type": "markdown",
   "metadata": {},
   "source": [
    "Next, test your function with supplying `stop_words.ENGLISH_STOP_WORDS` as the second parameter."
   ]
  },
  {
   "cell_type": "code",
   "execution_count": 13,
   "metadata": {},
   "outputs": [
    {
     "name": "stdout",
     "output_type": "stream",
     "text": [
      "{'bag_of_words': ['ironhack', 'cool', 'love', 'student'], 'term_freq': [[1, 1, 0, 0], [1, 0, 1, 0], [1, 0, 0, 1]]}\n"
     ]
    }
   ],
   "source": [
    "bow = get_bow_from_docs(docs, stop_words.ENGLISH_STOP_WORDS)\n",
    "\n",
    "print(bow)"
   ]
  },
  {
   "cell_type": "markdown",
   "metadata": {},
   "source": [
    "You should have seen:\n",
    "\n",
    "```{'bag_of_words': ['ironhack', 'cool', 'love', 'student'], 'term_freq': [[1, 1, 0, 0], [1, 0, 1, 0], [1, 0, 0, 1]]}```"
   ]
  }
 ],
 "metadata": {
  "kernelspec": {
   "display_name": "Python 3",
   "language": "python",
   "name": "python3"
  },
  "language_info": {
   "codemirror_mode": {
    "name": "ipython",
    "version": 3
   },
   "file_extension": ".py",
   "mimetype": "text/x-python",
   "name": "python",
   "nbconvert_exporter": "python",
   "pygments_lexer": "ipython3",
   "version": "3.8.2"
  }
 },
 "nbformat": 4,
 "nbformat_minor": 4
}
