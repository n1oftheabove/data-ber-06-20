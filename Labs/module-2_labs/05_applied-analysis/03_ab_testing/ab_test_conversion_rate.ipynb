{
 "cells": [
  {
   "cell_type": "code",
   "execution_count": 1,
   "metadata": {},
   "outputs": [],
   "source": [
    "import pandas as pd\n",
    "import numpy as np\n",
    "import seaborn as sns\n",
    "import matplotlib.pyplot as plt\n",
    "import scipy"
   ]
  },
  {
   "cell_type": "markdown",
   "metadata": {},
   "source": [
    "# A/B testing to improve Conversion Rates\n",
    "\n",
    "You work for Company K. Company K is a video streaming service that is selling subscriptions. After running a few analyses, you suggest to the Product Team that placing more prominent upsells on the landing page may result in higher conversion rates (visitors signing up for the subscription). The Product Team took your suggestion with excitement and the engineering team went ahead and implemented the experiment right away. \n",
    "\n",
    "The experiment ran for the month of February 2020. You prepared a few datasets beforehand that will help you in analyzing the success of the A/B test.\n",
    "The A/B test had two experiment groups, A & B, in which visitors assigned to A were in the control group and visitors assigned to B received the new variant with the new upsells. You suggest to assign approximately 7% of the daily visitors to the experiment, applying a 50/50 split among the two variants.\n",
    "\n",
    "You have the following datasets:\n",
    "\n",
    "1. `first_pageviews`: This is a summary of all the unsubscribed users and the timestamp of their first pageview. Users get assigned according to their cookies, which is how we make sure that a user may not be assigned to two different groups when they reach our landing page. Since visitors haven't signed up at this point, they don't have a `user_id`, instead, we assign them a random but unique `anonymous_id`. If visitors get assigned to an experiment, you should see a non-null value in the `exp_id` column. Your experiment has the ids **101** for control and **102** for the variant.\n",
    "2. `subscribers`: This table shows you which users have subscribed at what point in time. To subscribe, you need to be a registered user, which is how you can uniquely identify each subscriber. Since we only sell yearly subscriptions, users cannot have more than 1 subscription within 365 days. \n",
    "3. `users`: This table is useful to link the first pageview of unsubscribed visitors to our subscribers. It keeps track of the `anonymous_id` we assigned to them and maps to the `user_id` we assigned after they sign up\n",
    "\n",
    "Immediately after the end of the experiment, the Product Manager approaches you overly excited and wants you to analyze the success of the experiment.\n",
    "\n",
    "You can find the datasets in the `data/2020-03-01` folder."
   ]
  },
  {
   "cell_type": "code",
   "execution_count": 4,
   "metadata": {},
   "outputs": [],
   "source": [
    "# load the datasets\n",
    "first_pageviews = pd.read_csv('./data/2020-03-01/first_pageviews.csv')\n",
    "users = pd.read_csv('./data/2020-03-01/users_mar01.csv')\n",
    "subscriptions = pd.read_csv('./data/2020-03-01/subscriptions_mar01.csv')"
   ]
  },
  {
   "cell_type": "markdown",
   "metadata": {},
   "source": [
    "## Inspect the data"
   ]
  },
  {
   "cell_type": "code",
   "execution_count": 8,
   "metadata": {},
   "outputs": [
    {
     "data": {
      "text/html": [
       "<div>\n",
       "<style scoped>\n",
       "    .dataframe tbody tr th:only-of-type {\n",
       "        vertical-align: middle;\n",
       "    }\n",
       "\n",
       "    .dataframe tbody tr th {\n",
       "        vertical-align: top;\n",
       "    }\n",
       "\n",
       "    .dataframe thead th {\n",
       "        text-align: right;\n",
       "    }\n",
       "</style>\n",
       "<table border=\"1\" class=\"dataframe\">\n",
       "  <thead>\n",
       "    <tr style=\"text-align: right;\">\n",
       "      <th></th>\n",
       "      <th>date_id</th>\n",
       "      <th>anonymous_id</th>\n",
       "      <th>exp_id</th>\n",
       "    </tr>\n",
       "  </thead>\n",
       "  <tbody>\n",
       "    <tr>\n",
       "      <th>0</th>\n",
       "      <td>2020-01-16</td>\n",
       "      <td>4d005f94-e06f-493c-b569-9efb5ce4d203</td>\n",
       "      <td>NaN</td>\n",
       "    </tr>\n",
       "    <tr>\n",
       "      <th>1</th>\n",
       "      <td>2020-01-16</td>\n",
       "      <td>948ad58a-f483-4007-aa56-280aa018427b</td>\n",
       "      <td>NaN</td>\n",
       "    </tr>\n",
       "    <tr>\n",
       "      <th>2</th>\n",
       "      <td>2020-01-16</td>\n",
       "      <td>31f4f2e4-4ae6-417b-8a6d-53b98a719145</td>\n",
       "      <td>NaN</td>\n",
       "    </tr>\n",
       "    <tr>\n",
       "      <th>3</th>\n",
       "      <td>2020-01-16</td>\n",
       "      <td>24747dc7-355a-44b0-95c6-0caa91cd4ae4</td>\n",
       "      <td>NaN</td>\n",
       "    </tr>\n",
       "    <tr>\n",
       "      <th>4</th>\n",
       "      <td>2020-01-16</td>\n",
       "      <td>0162c4f8-7bc2-4432-90b9-bfb61f5e57b3</td>\n",
       "      <td>NaN</td>\n",
       "    </tr>\n",
       "  </tbody>\n",
       "</table>\n",
       "</div>"
      ],
      "text/plain": [
       "      date_id                          anonymous_id  exp_id\n",
       "0  2020-01-16  4d005f94-e06f-493c-b569-9efb5ce4d203     NaN\n",
       "1  2020-01-16  948ad58a-f483-4007-aa56-280aa018427b     NaN\n",
       "2  2020-01-16  31f4f2e4-4ae6-417b-8a6d-53b98a719145     NaN\n",
       "3  2020-01-16  24747dc7-355a-44b0-95c6-0caa91cd4ae4     NaN\n",
       "4  2020-01-16  0162c4f8-7bc2-4432-90b9-bfb61f5e57b3     NaN"
      ]
     },
     "execution_count": 8,
     "metadata": {},
     "output_type": "execute_result"
    }
   ],
   "source": [
    "first_pageviews.head(5)"
   ]
  },
  {
   "cell_type": "code",
   "execution_count": 6,
   "metadata": {},
   "outputs": [
    {
     "data": {
      "text/html": [
       "<div>\n",
       "<style scoped>\n",
       "    .dataframe tbody tr th:only-of-type {\n",
       "        vertical-align: middle;\n",
       "    }\n",
       "\n",
       "    .dataframe tbody tr th {\n",
       "        vertical-align: top;\n",
       "    }\n",
       "\n",
       "    .dataframe thead th {\n",
       "        text-align: right;\n",
       "    }\n",
       "</style>\n",
       "<table border=\"1\" class=\"dataframe\">\n",
       "  <thead>\n",
       "    <tr style=\"text-align: right;\">\n",
       "      <th></th>\n",
       "      <th>anonymous_id</th>\n",
       "      <th>user_id</th>\n",
       "    </tr>\n",
       "  </thead>\n",
       "  <tbody>\n",
       "    <tr>\n",
       "      <th>0</th>\n",
       "      <td>e575dd8c-f02c-4a1a-8a53-fef7ff2b9f95</td>\n",
       "      <td>b67781da-3a0f-48af-80d8-728d3ec31c66</td>\n",
       "    </tr>\n",
       "    <tr>\n",
       "      <th>1</th>\n",
       "      <td>a92532b2-0317-49bb-9f00-3d9b9ae71ea5</td>\n",
       "      <td>ce1764ca-91a2-4c2e-95fe-c415c5df7be5</td>\n",
       "    </tr>\n",
       "    <tr>\n",
       "      <th>2</th>\n",
       "      <td>9c39b4d4-d7da-49e2-bcd9-4abee3e211f6</td>\n",
       "      <td>b24712a4-40b7-4841-a9e9-f566d9ed48a9</td>\n",
       "    </tr>\n",
       "    <tr>\n",
       "      <th>3</th>\n",
       "      <td>858cc4cc-dcd2-4897-815b-500a2ee8c00e</td>\n",
       "      <td>d0e4f27e-11ab-470c-85db-4f7389ba63d4</td>\n",
       "    </tr>\n",
       "    <tr>\n",
       "      <th>4</th>\n",
       "      <td>96a9ad69-568e-40bd-9ff7-3e6b8e0d3f9a</td>\n",
       "      <td>91b679ad-38cc-4569-b5fc-8a98dc858b8d</td>\n",
       "    </tr>\n",
       "  </tbody>\n",
       "</table>\n",
       "</div>"
      ],
      "text/plain": [
       "                           anonymous_id                               user_id\n",
       "0  e575dd8c-f02c-4a1a-8a53-fef7ff2b9f95  b67781da-3a0f-48af-80d8-728d3ec31c66\n",
       "1  a92532b2-0317-49bb-9f00-3d9b9ae71ea5  ce1764ca-91a2-4c2e-95fe-c415c5df7be5\n",
       "2  9c39b4d4-d7da-49e2-bcd9-4abee3e211f6  b24712a4-40b7-4841-a9e9-f566d9ed48a9\n",
       "3  858cc4cc-dcd2-4897-815b-500a2ee8c00e  d0e4f27e-11ab-470c-85db-4f7389ba63d4\n",
       "4  96a9ad69-568e-40bd-9ff7-3e6b8e0d3f9a  91b679ad-38cc-4569-b5fc-8a98dc858b8d"
      ]
     },
     "execution_count": 6,
     "metadata": {},
     "output_type": "execute_result"
    }
   ],
   "source": [
    "users.head(5)"
   ]
  },
  {
   "cell_type": "code",
   "execution_count": 7,
   "metadata": {},
   "outputs": [
    {
     "data": {
      "text/html": [
       "<div>\n",
       "<style scoped>\n",
       "    .dataframe tbody tr th:only-of-type {\n",
       "        vertical-align: middle;\n",
       "    }\n",
       "\n",
       "    .dataframe tbody tr th {\n",
       "        vertical-align: top;\n",
       "    }\n",
       "\n",
       "    .dataframe thead th {\n",
       "        text-align: right;\n",
       "    }\n",
       "</style>\n",
       "<table border=\"1\" class=\"dataframe\">\n",
       "  <thead>\n",
       "    <tr style=\"text-align: right;\">\n",
       "      <th></th>\n",
       "      <th>user_id</th>\n",
       "      <th>created_at</th>\n",
       "      <th>client_app</th>\n",
       "    </tr>\n",
       "  </thead>\n",
       "  <tbody>\n",
       "    <tr>\n",
       "      <th>0</th>\n",
       "      <td>b67781da-3a0f-48af-80d8-728d3ec31c66</td>\n",
       "      <td>2020-01-26 09:00:55.628471160</td>\n",
       "      <td>android</td>\n",
       "    </tr>\n",
       "    <tr>\n",
       "      <th>1</th>\n",
       "      <td>ce1764ca-91a2-4c2e-95fe-c415c5df7be5</td>\n",
       "      <td>2020-01-30 10:43:16.359589080</td>\n",
       "      <td>ios</td>\n",
       "    </tr>\n",
       "    <tr>\n",
       "      <th>2</th>\n",
       "      <td>b24712a4-40b7-4841-a9e9-f566d9ed48a9</td>\n",
       "      <td>2020-02-15 21:19:35.663792880</td>\n",
       "      <td>web</td>\n",
       "    </tr>\n",
       "    <tr>\n",
       "      <th>3</th>\n",
       "      <td>d0e4f27e-11ab-470c-85db-4f7389ba63d4</td>\n",
       "      <td>2020-02-13 04:45:52.198410780</td>\n",
       "      <td>ios</td>\n",
       "    </tr>\n",
       "    <tr>\n",
       "      <th>4</th>\n",
       "      <td>91b679ad-38cc-4569-b5fc-8a98dc858b8d</td>\n",
       "      <td>2020-02-10 13:24:29.670026400</td>\n",
       "      <td>android</td>\n",
       "    </tr>\n",
       "  </tbody>\n",
       "</table>\n",
       "</div>"
      ],
      "text/plain": [
       "                                user_id                     created_at  \\\n",
       "0  b67781da-3a0f-48af-80d8-728d3ec31c66  2020-01-26 09:00:55.628471160   \n",
       "1  ce1764ca-91a2-4c2e-95fe-c415c5df7be5  2020-01-30 10:43:16.359589080   \n",
       "2  b24712a4-40b7-4841-a9e9-f566d9ed48a9  2020-02-15 21:19:35.663792880   \n",
       "3  d0e4f27e-11ab-470c-85db-4f7389ba63d4  2020-02-13 04:45:52.198410780   \n",
       "4  91b679ad-38cc-4569-b5fc-8a98dc858b8d  2020-02-10 13:24:29.670026400   \n",
       "\n",
       "  client_app  \n",
       "0    android  \n",
       "1        ios  \n",
       "2        web  \n",
       "3        ios  \n",
       "4    android  "
      ]
     },
     "execution_count": 7,
     "metadata": {},
     "output_type": "execute_result"
    }
   ],
   "source": [
    "subscriptions.head(5)"
   ]
  },
  {
   "cell_type": "code",
   "execution_count": 37,
   "metadata": {},
   "outputs": [],
   "source": [
    "first_pageviews['date_id'] = pd.to_datetime(first_pageviews['date_id'])\n",
    "first_pageviews['anonymous_id'] = first_pageviews['anonymous_id'].astype(str)\n",
    "first_pageviews['exp_id'] = first_pageviews['exp_id'].astype(str)"
   ]
  },
  {
   "cell_type": "code",
   "execution_count": 42,
   "metadata": {},
   "outputs": [],
   "source": [
    "subscriptions['created_at'] = pd.to_datetime(subscriptions['created_at'])\n",
    "subscriptions['user_id'] = subscriptions['user_id'].astype(str)\n",
    "subscriptions['client_app'] = subscriptions['client_app'].astype(str)"
   ]
  },
  {
   "cell_type": "code",
   "execution_count": 78,
   "metadata": {},
   "outputs": [
    {
     "data": {
      "image/png": "[encoded data removed]",
      "text/plain": [
       "<Figure size 1080x288 with 1 Axes>"
      ]
     },
     "metadata": {},
     "output_type": "display_data"
    }
   ],
   "source": [
    "# plot first pageview per day to inspect if you can spot any outliers or anything suspicious\n",
    "first_pageviews = first_pageviews.assign(ones=1)\n",
    "import seaborn as sns\n",
    "sns.set(style=\"whitegrid\")\n",
    "\n",
    "first_pageviews_vpd = first_pageviews.groupby('date_id').agg({'anonymous_id':'count'}).reset_index()\n",
    "\n",
    "plt.figure(figsize=(15,4))\n",
    "\n",
    "ax = sns.lineplot(x=\"date_id\",\n",
    "                  y=\"anonymous_id\",\n",
    "                  data=first_pageviews_vpd,\n",
    "                )\n",
    "\n",
    "# One can make out a dip in pageviews at the weekends, especially on saturdays. Then, during workdays,\n",
    "# there are often two distinct peaks"
   ]
  },
  {
   "cell_type": "code",
   "execution_count": 94,
   "metadata": {},
   "outputs": [
    {
     "name": "stdout",
     "output_type": "stream",
     "text": [
      "ratio of visitors in 101 in percent:  3.432852877878283\n",
      "ratio of visitors in 102 in percent:  3.4241553261379636\n"
     ]
    }
   ],
   "source": [
    "# check the assignment into the experiment. You should see that 7% of the visitors were \n",
    "# assigned to the experiment with a 50/50 split among the two variants\n",
    "\n",
    "print('ratio of visitors in 101 in percent: ', 100*len(first_pageviews[first_pageviews['exp_id'] == '101.0'])/len(first_pageviews))\n",
    "print('ratio of visitors in 102 in percent: ', 100*len(first_pageviews[first_pageviews['exp_id'] == '102.0'])/len(first_pageviews))\n"
   ]
  },
  {
   "cell_type": "markdown",
   "metadata": {},
   "source": [
    "The assignment seemed to work as planned. You can now continue with the data prep.\n",
    "\n",
    "## Create experiment dataset\n",
    "\n",
    "To simplify the analysis, filter and merge the datasets to only focus on what's relevant. That is, you only care about visitors that were actually assigned to the experiment. Among those, you want to know how many subscribed. The proportion of those, for each group, is the conversion rate."
   ]
  },
  {
   "cell_type": "code",
   "execution_count": null,
   "metadata": {},
   "outputs": [],
   "source": [
    "# merge the tables so you can see all visitors assigned to the experiment \n",
    "# and whether they subscribed or not\n",
    "# create a dummy column for whether a user subscribed or not"
   ]
  },
  {
   "cell_type": "markdown",
   "metadata": {},
   "source": [
    "## Inspect experiment data\n",
    "\n",
    "Before running the test, you want to spend some time checking the data you collected."
   ]
  },
  {
   "cell_type": "code",
   "execution_count": null,
   "metadata": {},
   "outputs": [],
   "source": [
    "# plot a timeseries of daily visitors that were assigned to an experiment\n",
    "# plot a line for each exp_id"
   ]
  },
  {
   "cell_type": "code",
   "execution_count": null,
   "metadata": {},
   "outputs": [],
   "source": [
    "# does the time range match the experiment requirements?\n",
    "# Do the lines indicate an equal assignment over time?"
   ]
  },
  {
   "cell_type": "markdown",
   "metadata": {},
   "source": [
    "## Describing the data\n",
    "\n",
    "Compute the differences among the groups, before running a statistical test"
   ]
  },
  {
   "cell_type": "code",
   "execution_count": null,
   "metadata": {},
   "outputs": [],
   "source": [
    "# compute the number of conversion for each experiment group"
   ]
  },
  {
   "cell_type": "code",
   "execution_count": null,
   "metadata": {},
   "outputs": [],
   "source": [
    "# compute the conversion rate for each experiment group"
   ]
  },
  {
   "cell_type": "code",
   "execution_count": null,
   "metadata": {},
   "outputs": [],
   "source": [
    "# interpret the results. From just looking at the numbers, which group performed better \n",
    "# with respect to conversions or conversion rates?"
   ]
  },
  {
   "cell_type": "markdown",
   "metadata": {},
   "source": [
    "You should see that there is a difference in the conversion rate across the different experiment groups.\n",
    "\n",
    "Are there any differences among the subscibers for each group with respect to the client application they signed up through?"
   ]
  },
  {
   "cell_type": "code",
   "execution_count": null,
   "metadata": {},
   "outputs": [],
   "source": [
    "# Compute relative frequency for each client_app through which they subscribed in each experiment group"
   ]
  },
  {
   "cell_type": "code",
   "execution_count": null,
   "metadata": {},
   "outputs": [],
   "source": [
    "# interpret and discuss the results"
   ]
  },
  {
   "cell_type": "markdown",
   "metadata": {},
   "source": [
    "## Test whether the difference in conversion rate is significant\n",
    "\n",
    "It is time for the statistical test!"
   ]
  },
  {
   "cell_type": "code",
   "execution_count": null,
   "metadata": {},
   "outputs": [],
   "source": [
    "# compute the two arrays/series to be passed to the t-test"
   ]
  },
  {
   "cell_type": "code",
   "execution_count": null,
   "metadata": {},
   "outputs": [],
   "source": [
    "# run the test and compute the p-value, without the equal variance assumption"
   ]
  },
  {
   "cell_type": "code",
   "execution_count": null,
   "metadata": {},
   "outputs": [],
   "source": [
    "# Write up your conclusion and discuss"
   ]
  },
  {
   "cell_type": "markdown",
   "metadata": {},
   "source": [
    "The experiment unfortunately did not result in a significant difference among the two groups. That is, you cannot conclude that the upsells were in fact improving the conversion rates. You still doubt whether you've done everything in the right way. \n",
    "\n",
    "During a coffee break, you overheard some colleague talking about how they are contemplating about getting newspaper subscription. They said they have been going to the newspaper website a few times already but they're not sure if they're willing to pay the price. You start thinking that you were maybe a little to rushed with starting the analysis on the first day after the experiment ended. It might take some time for people to subscribe after the first pageview..."
   ]
  },
  {
   "cell_type": "code",
   "execution_count": null,
   "metadata": {},
   "outputs": [],
   "source": [
    "# check the latest date a subscription was registered"
   ]
  },
  {
   "cell_type": "code",
   "execution_count": null,
   "metadata": {},
   "outputs": [],
   "source": [
    "# Using the Five-number summary, check how long it takes for users to subscribe after their first visit"
   ]
  },
  {
   "cell_type": "code",
   "execution_count": null,
   "metadata": {},
   "outputs": [],
   "source": [
    "# What is flawed when computing the five-number summary using this sample?"
   ]
  },
  {
   "cell_type": "markdown",
   "metadata": {},
   "source": [
    "## Considering time it takes to subscribe\n",
    "\n",
    "The team decides to wait for the analysis until the end of the month to allow users to subscribe. On April 1st, the Product Manager approaches you with even more excitement and pushes you to redo the analysis.\n",
    "\n",
    "The data for the additional subscribers that signed up between the day of your first analysis and today can be found in `data/2020-04-01/`.\n",
    "\n",
    "**Important:** The new data does not include any of the data that were included in the previous datasets."
   ]
  },
  {
   "cell_type": "code",
   "execution_count": null,
   "metadata": {},
   "outputs": [],
   "source": [
    "# load the newest data for subscriptions and their corresponding mapping in the users dataset"
   ]
  },
  {
   "cell_type": "code",
   "execution_count": null,
   "metadata": {},
   "outputs": [],
   "source": [
    "# combine the newest data with the existing datasets"
   ]
  },
  {
   "cell_type": "code",
   "execution_count": null,
   "metadata": {},
   "outputs": [],
   "source": [
    "# From here on, you're on your own. Redo the analysis from above with the new dataset.\n",
    "# Make sure to run a few inspections to make sure your data is how you expect it to be\n",
    "# After analyzing, provide a summary and a discussion including your communication to the Product Team"
   ]
  }
 ],
 "metadata": {
  "kernelspec": {
   "display_name": "Python 3",
   "language": "python",
   "name": "python3"
  },
  "language_info": {
   "codemirror_mode": {
    "name": "ipython",
    "version": 3
   },
   "file_extension": ".py",
   "mimetype": "text/x-python",
   "name": "python",
   "nbconvert_exporter": "python",
   "pygments_lexer": "ipython3",
   "version": "3.8.3"
  }
 },
 "nbformat": 4,
 "nbformat_minor": 2
}
